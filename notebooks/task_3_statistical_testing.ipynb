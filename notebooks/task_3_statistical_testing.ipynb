{
 "cells": [
  {
   "cell_type": "code",
   "execution_count": null,
   "id": "6f03a384-f628-45f2-9ae8-35cd20e47262",
   "metadata": {},
   "outputs": [],
   "source": [
    "# Imports and helper functions\n",
    "import sys\n",
    "import os\n",
    "import pandas as pd\n",
    "sys.path.append(os.path.abspath('../src'))\n",
    "import hypothesis_tests as ht"
   ]
  },
  {
   "cell_type": "code",
   "execution_count": null,
   "id": "bdceffb1-35e3-412b-9dbc-4dae5982dc03",
   "metadata": {},
   "outputs": [],
   "source": [
    "# Load cleaned data from task 2 DVC tracked file\n",
    "df = pd.read_csv('../data/cleaned_data.txt')"
   ]
  },
  {
   "cell_type": "code",
   "execution_count": null,
   "id": "d19ab636-ac40-4dbf-9bb2-b56b8cf1f2d1",
   "metadata": {},
   "outputs": [],
   "source": [
    "# Step 1: Compute KPIs\n",
    "df = ht.compute_kpis(df)"
   ]
  },
  {
   "cell_type": "code",
   "execution_count": null,
   "id": "6ad6f1cd-0e2d-4a63-809b-c431172720a1",
   "metadata": {},
   "outputs": [],
   "source": [
    "# Hypothesis 1: Risk difference across provinces (Claim Frequency and Claim Severity)\n",
    "group_a_prov, group_b_prov = ht.segment_data(df, 'Province', 'Gauteng', 'Western Cape')"
   ]
  },
  {
   "cell_type": "code",
   "execution_count": null,
   "id": "34714360-5097-4bf5-a1c2-3e1df9042b01",
   "metadata": {},
   "outputs": [],
   "source": [
    "# Claim Frequency - Chi-Square Test\n",
    "chi2, p_val_freq = ht.chi_squared_test(group_a_prov, group_b_prov, 'HasClaim')\n",
    "print(\"Claim Frequency Province Test:\", ht.interpret_result(p_val_freq))"
   ]
  },
  {
   "cell_type": "code",
   "execution_count": null,
   "id": "227daf37-cbf3-4f40-8059-8c9e4ef45c8a",
   "metadata": {},
   "outputs": [],
   "source": [
    "# Claim Severity - t-test\n",
    "t_stat_sev, p_val_sev = ht.t_test(group_a_prov, group_b_prov, 'ClaimSeverity')\n",
    "print(\"Claim Severity Province Test:\", ht.interpret_result(p_val_sev))"
   ]
  },
  {
   "cell_type": "code",
   "execution_count": null,
   "id": "8024057d-566f-4033-a826-61654b2682ea",
   "metadata": {},
   "outputs": [],
   "source": [
    "# Hypothesis 2: Risk difference between zip codes \n",
    "zipcodes = df['PostalCode'].value_counts().index[:2]\n",
    "group_a_zip, group_b_zip = ht.segment_data(df, 'PostalCode', zipcodes[0], zipcodes[1])"
   ]
  },
  {
   "cell_type": "code",
   "execution_count": null,
   "id": "bf8f1837-3235-4585-8b8b-4cf65043aa00",
   "metadata": {},
   "outputs": [],
   "source": [
    "chi2_zip, p_val_freq_zip = ht.chi_squared_test(group_a_zip, group_b_zip, 'HasClaim')\n",
    "print(\"Claim Frequency ZipCode Test:\", ht.interpret_result(p_val_freq_zip))"
   ]
  },
  {
   "cell_type": "code",
   "execution_count": null,
   "id": "2b19b5f5-82a0-4ebc-807c-01e9d51e20d0",
   "metadata": {},
   "outputs": [],
   "source": [
    "t_stat_sev_zip, p_val_sev_zip = ht.t_test(group_a_zip, group_b_zip, 'ClaimSeverity')\n",
    "print(\"Claim Severity ZipCode Test:\", ht.interpret_result(p_val_sev_zip))"
   ]
  },
  {
   "cell_type": "code",
   "execution_count": null,
   "id": "e9f63370-85d8-415b-84fb-cf49f10e3f99",
   "metadata": {},
   "outputs": [],
   "source": [
    "# Hypothesis 3: Margin difference between zip codes\n",
    "t_stat_margin_zip, p_val_margin_zip = ht.t_test(group_a_zip, group_b_zip, 'Margin')\n",
    "print(\"Margin ZipCode Test:\", ht.interpret_result(p_val_margin_zip))"
   ]
  },
  {
   "cell_type": "code",
   "execution_count": 4,
   "id": "cf50db2e-9b3c-425d-98c3-4bc76d073723",
   "metadata": {},
   "outputs": [
    {
     "name": "stderr",
     "output_type": "stream",
     "text": [
      "C:\\Users\\Admin\\AppData\\Local\\Temp\\ipykernel_10016\\2631833538.py:10: DtypeWarning: Columns (32,37) have mixed types. Specify dtype option on import or set low_memory=False.\n",
      "  df = pd.read_csv('../data/cleaned_data.txt')\n"
     ]
    },
    {
     "name": "stdout",
     "output_type": "stream",
     "text": [
      "Claim Frequency Province Test: Reject Null Hypothesis (p = 0.0000) — statistically significant difference found.\n",
      "Claim Severity Province Test: Reject Null Hypothesis (p = 0.0255) — statistically significant difference found.\n",
      "Claim Frequency ZipCode Test: Reject Null Hypothesis (p = 0.0016) — statistically significant difference found.\n",
      "Claim Severity ZipCode Test: Fail to Reject Null Hypothesis (p = 0.5253) — no statistically significant difference.\n",
      "Margin ZipCode Test: Fail to Reject Null Hypothesis (p = 0.5206) — no statistically significant difference.\n",
      "Claim Frequency Gender Test: Fail to Reject Null Hypothesis (p = 0.7061) — no statistically significant difference.\n",
      "Claim Severity Gender Test: Fail to Reject Null Hypothesis (p = 0.4311) — no statistically significant difference.\n"
     ]
    }
   ],
   "source": [
    "# Hypothesis 4: Risk difference between Women and Men (Claim Frequency)\n",
    "group_a_gender, group_b_gender = ht.segment_data(df, 'Gender', 'Female', 'Male')\n",
    "\n",
    "chi2_gender, p_val_freq_gender = ht.chi_squared_test(group_a_gender, group_b_gender, 'HasClaim')\n",
    "print(\"Claim Frequency Gender Test:\", ht.interpret_result(p_val_freq_gender))\n",
    "\n",
    "# Optionally test Claim Severity difference by Gender\n",
    "t_stat_sev_gender, p_val_sev_gender = ht.t_test(group_a_gender, group_b_gender, 'ClaimSeverity')\n",
    "print(\"Claim Severity Gender Test:\", ht.interpret_result(p_val_sev_gender))"
   ]
  },
  {
   "cell_type": "code",
   "execution_count": 5,
   "id": "15b8afe7-9866-4ca6-b832-20918ec894e8",
   "metadata": {},
   "outputs": [],
   "source": [
    "# Summarize business implications as markdown or final print statements in notebook\n",
    "def summarize_business_implications():\n",
    "    print(\"\\n### Business Implications Summary\\n\")\n",
    "\n",
    "    # Province - Claim Frequency\n",
    "    if p_val_freq < 0.05:\n",
    "        print(f\"- Claim Frequency differs significantly across provinces (p = {p_val_freq:.4f}).\")\n",
    "        print(\"  Suggestion: Consider adjusting premiums regionally based on observed risk differences.\")\n",
    "    else:\n",
    "        print(f\"- No significant difference in Claim Frequency across provinces (p = {p_val_freq:.4f}).\")\n",
    "        print(\"  Suggestion: Uniform risk treatment by province is appropriate for Claim Frequency.\")\n",
    "\n",
    "    # Province - Claim Severity\n",
    "    if p_val_sev < 0.05:\n",
    "        print(f\"- Claim Severity differs significantly across provinces (p = {p_val_sev:.4f}).\")\n",
    "        print(\"  Suggestion: Region-specific claim severity should be considered in pricing.\")\n",
    "    else:\n",
    "        print(f\"- No significant difference in Claim Severity across provinces (p = {p_val_sev:.4f}).\")\n",
    "\n",
    "    # Zip Code - Claim Frequency\n",
    "    if p_val_freq_zip < 0.05:\n",
    "        print(f\"- Claim Frequency differs significantly between zip codes {zipcodes[0]} and {zipcodes[1]} (p = {p_val_freq_zip:.4f}).\")\n",
    "        print(\"  Suggestion: Zip code based segmentation may improve risk assessment.\")\n",
    "    else:\n",
    "        print(f\"- No significant difference in Claim Frequency between zip codes {zipcodes[0]} and {zipcodes[1]} (p = {p_val_freq_zip:.4f}).\")\n",
    "\n",
    "    # Zip Code - Claim Severity\n",
    "    if p_val_sev_zip < 0.05:\n",
    "        print(f\"- Claim Severity differs significantly between zip codes {zipcodes[0]} and {zipcodes[1]} (p = {p_val_sev_zip:.4f}).\")\n",
    "        print(\"  Suggestion: Consider zip code based differentiation in claim severity.\")\n",
    "    else:\n",
    "        print(f\"- No significant difference in Claim Severity between zip codes {zipcodes[0]} and {zipcodes[1]} (p = {p_val_sev_zip:.4f}).\")\n",
    "\n",
    "    # Zip Code - Margin\n",
    "    if p_val_margin_zip < 0.05:\n",
    "        print(f\"- Margin differs significantly between zip codes {zipcodes[0]} and {zipcodes[1]} (p = {p_val_margin_zip:.4f}).\")\n",
    "        print(\"  Suggestion: Profitability differs by zip code; consider adjusting margins accordingly.\")\n",
    "    else:\n",
    "        print(f\"- No significant difference in Margin between zip codes {zipcodes[0]} and {zipcodes[1]} (p = {p_val_margin_zip:.4f}).\")\n",
    "\n",
    "    # Gender - Claim Frequency\n",
    "    if p_val_freq_gender < 0.05:\n",
    "        print(f\"- Claim Frequency differs significantly between Women and Men (p = {p_val_freq_gender:.4f}).\")\n",
    "        print(\"  Suggestion: Gender-based segmentation could enhance risk differentiation.\")\n",
    "    else:\n",
    "        print(f\"- No significant difference in Claim Frequency between Women and Men (p = {p_val_freq_gender:.4f}).\")\n",
    "\n",
    "    # Gender - Claim Severity\n",
    "    if p_val_sev_gender < 0.05:\n",
    "        print(f\"- Claim Severity differs significantly between Women and Men (p = {p_val_sev_gender:.4f}).\")\n",
    "        print(\"  Suggestion: Consider gender differences in claim severity for pricing.\")\n",
    "    else:\n",
    "        print(f\"- No significant difference in Claim Severity between Women and Men (p = {p_val_sev_gender:.4f}).\")"
   ]
  },
  {
   "cell_type": "code",
   "execution_count": 6,
   "id": "9b94af74-4d0e-4a9f-9783-869496a4f6a7",
   "metadata": {},
   "outputs": [
    {
     "name": "stdout",
     "output_type": "stream",
     "text": [
      "\n",
      "### Business Implications Summary\n",
      "\n",
      "- Claim Frequency differs significantly across provinces (p = 0.0000).\n",
      "  Suggestion: Consider adjusting premiums regionally based on observed risk differences.\n",
      "- Claim Severity differs significantly across provinces (p = 0.0255).\n",
      "  Suggestion: Region-specific claim severity should be considered in pricing.\n",
      "- Claim Frequency differs significantly between zip codes 2000 and 122 (p = 0.0016).\n",
      "  Suggestion: Zip code based segmentation may improve risk assessment.\n",
      "- No significant difference in Claim Severity between zip codes 2000 and 122 (p = 0.5253).\n",
      "- No significant difference in Margin between zip codes 2000 and 122 (p = 0.5206).\n",
      "- No significant difference in Claim Frequency between Women and Men (p = 0.7061).\n",
      "- No significant difference in Claim Severity between Women and Men (p = 0.4311).\n"
     ]
    }
   ],
   "source": [
    "# Calling the function \n",
    "summarize_business_implications()"
   ]
  },
  {
   "cell_type": "code",
   "execution_count": null,
   "id": "67d32d08-2310-4005-9f76-e03172baec78",
   "metadata": {},
   "outputs": [],
   "source": []
  }
 ],
 "metadata": {
  "kernelspec": {
   "display_name": "Python 3 (ipykernel)",
   "language": "python",
   "name": "python3"
  },
  "language_info": {
   "codemirror_mode": {
    "name": "ipython",
    "version": 3
   },
   "file_extension": ".py",
   "mimetype": "text/x-python",
   "name": "python",
   "nbconvert_exporter": "python",
   "pygments_lexer": "ipython3",
   "version": "3.13.3"
  }
 },
 "nbformat": 4,
 "nbformat_minor": 5
}
