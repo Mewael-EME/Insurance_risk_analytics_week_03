{
 "cells": [
  {
   "cell_type": "code",
   "execution_count": 5,
   "id": "7981210a-8755-4492-b0a2-d38c326635ce",
   "metadata": {},
   "outputs": [],
   "source": [
    "import os\n",
    "import pandas as pd\n",
    "\n",
    "# Navigate one level up from notebooks/ to find data/\n",
    "data_dir = '../data'\n",
    "\n",
    "# Ensure the directory exists\n",
    "os.makedirs(data_dir, exist_ok=True)\n",
    "\n",
    "# Load raw data (located one level up in ../data)\n",
    "df = pd.read_csv(f'{data_dir}/insurance_data.txt', sep='|', low_memory=False)\n",
    "\n",
    "# Basic cleaning\n",
    "df_cleaned = df.dropna(subset=['TotalPremium', 'TotalClaims'])\n",
    "df_cleaned = df_cleaned[df_cleaned['TotalPremium'] > 0]\n",
    "\n",
    "# Save cleaned data\n",
    "df_cleaned.to_csv(f'{data_dir}/cleaned_data.txt', index=False)"
   ]
  }
 ],
 "metadata": {
  "kernelspec": {
   "display_name": "Python 3 (ipykernel)",
   "language": "python",
   "name": "python3"
  },
  "language_info": {
   "codemirror_mode": {
    "name": "ipython",
    "version": 3
   },
   "file_extension": ".py",
   "mimetype": "text/x-python",
   "name": "python",
   "nbconvert_exporter": "python",
   "pygments_lexer": "ipython3",
   "version": "3.13.3"
  }
 },
 "nbformat": 4,
 "nbformat_minor": 5
}
